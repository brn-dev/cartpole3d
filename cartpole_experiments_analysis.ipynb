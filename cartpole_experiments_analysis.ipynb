{
 "cells": [
  {
   "cell_type": "code",
   "execution_count": 2,
   "id": "acf9fac4-604f-4193-8a3a-dd67de719038",
   "metadata": {},
   "outputs": [],
   "source": [
    "import glob\n",
    "import os\n",
    "import pandas as pd\n",
    "import matplotlib.pyplot as plt "
   ]
  },
  {
   "cell_type": "code",
   "execution_count": 3,
   "id": "ecfefebc-cd20-4f02-9fc6-ef32688ef002",
   "metadata": {},
   "outputs": [],
   "source": [
    "all_files = glob.glob(os.path.join('./experiments_logs', \"*.csv\"))\n",
    "df = pd.concat((pd.read_csv(f) for f in all_files), ignore_index=True)"
   ]
  },
  {
   "cell_type": "code",
   "execution_count": 4,
   "id": "55719e3e-a1ee-40a2-8dea-7eb32051e790",
   "metadata": {},
   "outputs": [
    {
     "data": {
      "text/html": [
       "<div>\n",
       "<style scoped>\n",
       "    .dataframe tbody tr th:only-of-type {\n",
       "        vertical-align: middle;\n",
       "    }\n",
       "\n",
       "    .dataframe tbody tr th {\n",
       "        vertical-align: top;\n",
       "    }\n",
       "\n",
       "    .dataframe thead th {\n",
       "        text-align: right;\n",
       "    }\n",
       "</style>\n",
       "<table border=\"1\" class=\"dataframe\">\n",
       "  <thead>\n",
       "    <tr style=\"text-align: right;\">\n",
       "      <th></th>\n",
       "      <th>index</th>\n",
       "      <th>gamma</th>\n",
       "      <th>include_state_pred</th>\n",
       "      <th>best_timestep</th>\n",
       "      <th>i_episode</th>\n",
       "    </tr>\n",
       "  </thead>\n",
       "  <tbody>\n",
       "    <tr>\n",
       "      <th>0</th>\n",
       "      <td>266</td>\n",
       "      <td>0.0</td>\n",
       "      <td>True</td>\n",
       "      <td>191</td>\n",
       "      <td>500</td>\n",
       "    </tr>\n",
       "    <tr>\n",
       "      <th>1</th>\n",
       "      <td>267</td>\n",
       "      <td>0.0</td>\n",
       "      <td>True</td>\n",
       "      <td>3488</td>\n",
       "      <td>500</td>\n",
       "    </tr>\n",
       "    <tr>\n",
       "      <th>2</th>\n",
       "      <td>268</td>\n",
       "      <td>0.0</td>\n",
       "      <td>True</td>\n",
       "      <td>70</td>\n",
       "      <td>500</td>\n",
       "    </tr>\n",
       "    <tr>\n",
       "      <th>3</th>\n",
       "      <td>269</td>\n",
       "      <td>0.0</td>\n",
       "      <td>True</td>\n",
       "      <td>4547</td>\n",
       "      <td>500</td>\n",
       "    </tr>\n",
       "    <tr>\n",
       "      <th>4</th>\n",
       "      <td>270</td>\n",
       "      <td>0.0</td>\n",
       "      <td>True</td>\n",
       "      <td>401</td>\n",
       "      <td>500</td>\n",
       "    </tr>\n",
       "    <tr>\n",
       "      <th>...</th>\n",
       "      <td>...</td>\n",
       "      <td>...</td>\n",
       "      <td>...</td>\n",
       "      <td>...</td>\n",
       "      <td>...</td>\n",
       "    </tr>\n",
       "    <tr>\n",
       "      <th>223</th>\n",
       "      <td>489</td>\n",
       "      <td>0.0</td>\n",
       "      <td>True</td>\n",
       "      <td>524</td>\n",
       "      <td>500</td>\n",
       "    </tr>\n",
       "    <tr>\n",
       "      <th>224</th>\n",
       "      <td>490</td>\n",
       "      <td>0.0</td>\n",
       "      <td>True</td>\n",
       "      <td>613</td>\n",
       "      <td>500</td>\n",
       "    </tr>\n",
       "    <tr>\n",
       "      <th>225</th>\n",
       "      <td>491</td>\n",
       "      <td>0.0</td>\n",
       "      <td>True</td>\n",
       "      <td>1096</td>\n",
       "      <td>500</td>\n",
       "    </tr>\n",
       "    <tr>\n",
       "      <th>226</th>\n",
       "      <td>492</td>\n",
       "      <td>0.0</td>\n",
       "      <td>True</td>\n",
       "      <td>1275</td>\n",
       "      <td>500</td>\n",
       "    </tr>\n",
       "    <tr>\n",
       "      <th>227</th>\n",
       "      <td>493</td>\n",
       "      <td>0.0</td>\n",
       "      <td>True</td>\n",
       "      <td>81</td>\n",
       "      <td>500</td>\n",
       "    </tr>\n",
       "  </tbody>\n",
       "</table>\n",
       "<p>228 rows × 5 columns</p>\n",
       "</div>"
      ],
      "text/plain": [
       "     index  gamma  include_state_pred  best_timestep  i_episode\n",
       "0      266    0.0                True            191        500\n",
       "1      267    0.0                True           3488        500\n",
       "2      268    0.0                True             70        500\n",
       "3      269    0.0                True           4547        500\n",
       "4      270    0.0                True            401        500\n",
       "..     ...    ...                 ...            ...        ...\n",
       "223    489    0.0                True            524        500\n",
       "224    490    0.0                True            613        500\n",
       "225    491    0.0                True           1096        500\n",
       "226    492    0.0                True           1275        500\n",
       "227    493    0.0                True             81        500\n",
       "\n",
       "[228 rows x 5 columns]"
      ]
     },
     "execution_count": 4,
     "metadata": {},
     "output_type": "execute_result"
    }
   ],
   "source": [
    "with_state_pred = df.query('include_state_pred == True').reset_index()\n",
    "with_state_pred"
   ]
  },
  {
   "cell_type": "code",
   "execution_count": 5,
   "id": "e762a5b5-2bc1-4a46-855b-1dfff56b2a7b",
   "metadata": {},
   "outputs": [
    {
     "data": {
      "text/html": [
       "<div>\n",
       "<style scoped>\n",
       "    .dataframe tbody tr th:only-of-type {\n",
       "        vertical-align: middle;\n",
       "    }\n",
       "\n",
       "    .dataframe tbody tr th {\n",
       "        vertical-align: top;\n",
       "    }\n",
       "\n",
       "    .dataframe thead th {\n",
       "        text-align: right;\n",
       "    }\n",
       "</style>\n",
       "<table border=\"1\" class=\"dataframe\">\n",
       "  <thead>\n",
       "    <tr style=\"text-align: right;\">\n",
       "      <th></th>\n",
       "      <th>index</th>\n",
       "      <th>gamma</th>\n",
       "      <th>include_state_pred</th>\n",
       "      <th>best_timestep</th>\n",
       "      <th>i_episode</th>\n",
       "    </tr>\n",
       "  </thead>\n",
       "  <tbody>\n",
       "    <tr>\n",
       "      <th>0</th>\n",
       "      <td>0</td>\n",
       "      <td>0.0</td>\n",
       "      <td>False</td>\n",
       "      <td>710</td>\n",
       "      <td>500</td>\n",
       "    </tr>\n",
       "    <tr>\n",
       "      <th>1</th>\n",
       "      <td>1</td>\n",
       "      <td>0.0</td>\n",
       "      <td>False</td>\n",
       "      <td>105</td>\n",
       "      <td>500</td>\n",
       "    </tr>\n",
       "    <tr>\n",
       "      <th>2</th>\n",
       "      <td>2</td>\n",
       "      <td>0.0</td>\n",
       "      <td>False</td>\n",
       "      <td>10000</td>\n",
       "      <td>97</td>\n",
       "    </tr>\n",
       "    <tr>\n",
       "      <th>3</th>\n",
       "      <td>3</td>\n",
       "      <td>0.0</td>\n",
       "      <td>False</td>\n",
       "      <td>10000</td>\n",
       "      <td>23</td>\n",
       "    </tr>\n",
       "    <tr>\n",
       "      <th>4</th>\n",
       "      <td>4</td>\n",
       "      <td>0.0</td>\n",
       "      <td>False</td>\n",
       "      <td>84</td>\n",
       "      <td>500</td>\n",
       "    </tr>\n",
       "    <tr>\n",
       "      <th>...</th>\n",
       "      <td>...</td>\n",
       "      <td>...</td>\n",
       "      <td>...</td>\n",
       "      <td>...</td>\n",
       "      <td>...</td>\n",
       "    </tr>\n",
       "    <tr>\n",
       "      <th>261</th>\n",
       "      <td>261</td>\n",
       "      <td>0.0</td>\n",
       "      <td>False</td>\n",
       "      <td>10000</td>\n",
       "      <td>80</td>\n",
       "    </tr>\n",
       "    <tr>\n",
       "      <th>262</th>\n",
       "      <td>262</td>\n",
       "      <td>0.0</td>\n",
       "      <td>False</td>\n",
       "      <td>10000</td>\n",
       "      <td>18</td>\n",
       "    </tr>\n",
       "    <tr>\n",
       "      <th>263</th>\n",
       "      <td>263</td>\n",
       "      <td>0.0</td>\n",
       "      <td>False</td>\n",
       "      <td>10000</td>\n",
       "      <td>55</td>\n",
       "    </tr>\n",
       "    <tr>\n",
       "      <th>264</th>\n",
       "      <td>264</td>\n",
       "      <td>0.0</td>\n",
       "      <td>False</td>\n",
       "      <td>91</td>\n",
       "      <td>500</td>\n",
       "    </tr>\n",
       "    <tr>\n",
       "      <th>265</th>\n",
       "      <td>265</td>\n",
       "      <td>0.0</td>\n",
       "      <td>False</td>\n",
       "      <td>914</td>\n",
       "      <td>500</td>\n",
       "    </tr>\n",
       "  </tbody>\n",
       "</table>\n",
       "<p>266 rows × 5 columns</p>\n",
       "</div>"
      ],
      "text/plain": [
       "     index  gamma  include_state_pred  best_timestep  i_episode\n",
       "0        0    0.0               False            710        500\n",
       "1        1    0.0               False            105        500\n",
       "2        2    0.0               False          10000         97\n",
       "3        3    0.0               False          10000         23\n",
       "4        4    0.0               False             84        500\n",
       "..     ...    ...                 ...            ...        ...\n",
       "261    261    0.0               False          10000         80\n",
       "262    262    0.0               False          10000         18\n",
       "263    263    0.0               False          10000         55\n",
       "264    264    0.0               False             91        500\n",
       "265    265    0.0               False            914        500\n",
       "\n",
       "[266 rows x 5 columns]"
      ]
     },
     "execution_count": 5,
     "metadata": {},
     "output_type": "execute_result"
    }
   ],
   "source": [
    "without_state_pred = df.query('include_state_pred == False').reset_index()\n",
    "without_state_pred"
   ]
  },
  {
   "cell_type": "code",
   "execution_count": 13,
   "id": "381fa42c-7623-4144-a0b6-d5c70510ac95",
   "metadata": {},
   "outputs": [
    {
     "data": {
      "text/plain": [
       "(228, 112, 0.49122807017543857)"
      ]
     },
     "execution_count": 13,
     "metadata": {},
     "output_type": "execute_result"
    }
   ],
   "source": [
    "(with_state_pred.shape[0], \n",
    "with_state_pred.query('best_timestep == 10000').shape[0], \n",
    "with_state_pred.query('best_timestep == 10000').shape[0] / with_state_pred.shape[0])"
   ]
  },
  {
   "cell_type": "code",
   "execution_count": 14,
   "id": "f8a2e938-72c8-4008-94a9-14224fb0ae26",
   "metadata": {},
   "outputs": [
    {
     "data": {
      "text/plain": [
       "(266, 110, 0.41353383458646614)"
      ]
     },
     "execution_count": 14,
     "metadata": {},
     "output_type": "execute_result"
    }
   ],
   "source": [
    "(without_state_pred.shape[0],\n",
    " without_state_pred.query('best_timestep == 10000').shape[0], \n",
    " without_state_pred.query('best_timestep == 10000').shape[0] / without_state_pred.shape[0])"
   ]
  },
  {
   "cell_type": "code",
   "execution_count": 7,
   "id": "50d01fb8-ec1a-462e-99e6-53215c7fb8f4",
   "metadata": {},
   "outputs": [
    {
     "data": {
      "text/plain": [
       "157.875"
      ]
     },
     "execution_count": 7,
     "metadata": {},
     "output_type": "execute_result"
    },
    {
     "data": {
      "image/png": "[encoded data removed]",
      "text/plain": [
       "<Figure size 640x480 with 1 Axes>"
      ]
     },
     "metadata": {},
     "output_type": "display_data"
    }
   ],
   "source": [
    "plt.hist(with_state_pred.query('best_timestep == 10000')['i_episode'])\n",
    "with_state_pred.query('best_timestep == 10000')['i_episode'].mean()"
   ]
  },
  {
   "cell_type": "code",
   "execution_count": 42,
   "id": "6348ef7b-aa04-4d2f-98c7-e1c3465855f8",
   "metadata": {},
   "outputs": [
    {
     "data": {
      "text/plain": [
       "139.4"
      ]
     },
     "execution_count": 42,
     "metadata": {},
     "output_type": "execute_result"
    },
    {
     "data": {
      "image/png": "[encoded data removed]",
      "text/plain": [
       "<Figure size 640x480 with 1 Axes>"
      ]
     },
     "metadata": {},
     "output_type": "display_data"
    }
   ],
   "source": [
    "plt.hist(without_state_pred.query('best_timestep == 10000')['i_episode'])\n",
    "without_state_pred.query('best_timestep == 10000')['i_episode'].mean()"
   ]
  },
  {
   "cell_type": "code",
   "execution_count": 28,
   "id": "114cc06c-9e33-4d15-9334-76df2562bd07",
   "metadata": {},
   "outputs": [
    {
     "data": {
      "text/plain": [
       "(array([52., 14.,  4.,  4.,  4.,  1.,  1.,  1.,  0.,  2.]),\n",
       " array([ 105. , 1024.8, 1944.6, 2864.4, 3784.2, 4704. , 5623.8, 6543.6,\n",
       "        7463.4, 8383.2, 9303. ]),\n",
       " <BarContainer object of 10 artists>)"
      ]
     },
     "execution_count": 28,
     "metadata": {},
     "output_type": "execute_result"
    },
    {
     "data": {
      "image/png": "[encoded data removed]",
      "text/plain": [
       "<Figure size 640x480 with 1 Axes>"
      ]
     },
     "metadata": {},
     "output_type": "display_data"
    }
   ],
   "source": [
    "plt.hist(with_state_pred.query('100 < best_timestep < 10000')['best_timestep'])"
   ]
  },
  {
   "cell_type": "code",
   "execution_count": 27,
   "id": "09acc8cb-3a0a-44e3-b468-a506e7e3f990",
   "metadata": {},
   "outputs": [
    {
     "data": {
      "text/plain": [
       "(array([68., 15.,  6.,  1.,  3.,  0.,  0.,  2.,  1.,  2.]),\n",
       " array([ 102. , 1082.9, 2063.8, 3044.7, 4025.6, 5006.5, 5987.4, 6968.3,\n",
       "        7949.2, 8930.1, 9911. ]),\n",
       " <BarContainer object of 10 artists>)"
      ]
     },
     "execution_count": 27,
     "metadata": {},
     "output_type": "execute_result"
    },
    {
     "data": {
      "image/png": "[encoded data removed]",
      "text/plain": [
       "<Figure size 640x480 with 1 Axes>"
      ]
     },
     "metadata": {},
     "output_type": "display_data"
    }
   ],
   "source": [
    "plt.hist(without_state_pred.query('100 < best_timestep < 10000')['best_timestep'])"
   ]
  },
  {
   "cell_type": "code",
   "execution_count": 33,
   "id": "9920bb52-203b-49cf-aa1a-042fd3f05e00",
   "metadata": {},
   "outputs": [
    {
     "data": {
      "text/plain": [
       "1028.5862068965516"
      ]
     },
     "execution_count": 33,
     "metadata": {},
     "output_type": "execute_result"
    }
   ],
   "source": [
    "with_state_pred.query('best_timestep != 10000')['best_timestep'].mean()"
   ]
  },
  {
   "cell_type": "code",
   "execution_count": 34,
   "id": "471f8ec8-668c-4d82-b892-2ce579c26498",
   "metadata": {},
   "outputs": [
    {
     "data": {
      "text/plain": [
       "815.7115384615385"
      ]
     },
     "execution_count": 34,
     "metadata": {},
     "output_type": "execute_result"
    }
   ],
   "source": [
    "without_state_pred.query('best_timestep != 10000')['best_timestep'].mean()"
   ]
  },
  {
   "cell_type": "code",
   "execution_count": 15,
   "id": "f4839815-f4c4-4bb3-8c6d-0168dad2c3f0",
   "metadata": {},
   "outputs": [
    {
     "data": {
      "text/plain": [
       "5435.596491228071"
      ]
     },
     "execution_count": 15,
     "metadata": {},
     "output_type": "execute_result"
    }
   ],
   "source": [
    "with_state_pred['best_timestep'].mean()"
   ]
  },
  {
   "cell_type": "code",
   "execution_count": 16,
   "id": "c6b35fbc-6b21-45e6-b638-1911a176af0d",
   "metadata": {},
   "outputs": [
    {
     "data": {
      "text/plain": [
       "4613.725563909775"
      ]
     },
     "execution_count": 16,
     "metadata": {},
     "output_type": "execute_result"
    }
   ],
   "source": [
    "without_state_pred['best_timestep'].mean()"
   ]
  },
  {
   "cell_type": "code",
   "execution_count": null,
   "id": "94c0a9e9-a17a-406c-a3bf-e395dc1c1d02",
   "metadata": {},
   "outputs": [],
   "source": []
  }
 ],
 "metadata": {
  "kernelspec": {
   "display_name": "Python 3 (ipykernel)",
   "language": "python",
   "name": "python3"
  },
  "language_info": {
   "codemirror_mode": {
    "name": "ipython",
    "version": 3
   },
   "file_extension": ".py",
   "mimetype": "text/x-python",
   "name": "python",
   "nbconvert_exporter": "python",
   "pygments_lexer": "ipython3",
   "version": "3.11.7"
  }
 },
 "nbformat": 4,
 "nbformat_minor": 5
}
